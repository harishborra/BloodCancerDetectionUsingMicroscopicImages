{
  "nbformat": 4,
  "nbformat_minor": 0,
  "metadata": {
    "accelerator": "GPU",
    "colab": {
      "name": "BloodCancerDetectionProject.ipynb",
      "provenance": [],
      "collapsed_sections": [],
      "include_colab_link": true
    },
    "kernelspec": {
      "display_name": "Python 3",
      "name": "python3"
    },
    "language_info": {
      "name": "python"
    }
  },
  "cells": [
    {
      "cell_type": "markdown",
      "metadata": {
        "id": "view-in-github",
        "colab_type": "text"
      },
      "source": [
        "<a href=\"https://colab.research.google.com/github/harishborra/BloodCancerDetectionUsingMicroscopicImages/blob/main/BloodCancerDetectionProject.ipynb\" target=\"_parent\"><img src=\"https://colab.research.google.com/assets/colab-badge.svg\" alt=\"Open In Colab\"/></a>"
      ]
    },
    {
      "cell_type": "code",
      "metadata": {
        "colab": {
          "base_uri": "https://localhost:8080/"
        },
        "id": "wdCt2CW9jdGt",
        "outputId": "51ff82bd-d35e-4113-de72-df04340720f8"
      },
      "source": [
        "!wget --no-check-certificate 'https://docs.google.com/uc?export=download&id=14U9w56mn_LXGpiC7IDhmKlFi6rlmGpV7' -O kaggle.json\n",
        "! mkdir ~/.kaggle\n",
        "! cp kaggle.json ~/.kaggle/\n",
        "! chmod 600 ~/.kaggle/kaggle.json\n",
        "!kaggle datasets download -d andrewmvd/leukemia-classification"
      ],
      "execution_count": null,
      "outputs": [
        {
          "output_type": "stream",
          "text": [
            "--2021-07-11 08:32:04--  https://docs.google.com/uc?export=download&id=14U9w56mn_LXGpiC7IDhmKlFi6rlmGpV7\n",
            "Resolving docs.google.com (docs.google.com)... 74.125.142.102, 74.125.142.139, 74.125.142.113, ...\n",
            "Connecting to docs.google.com (docs.google.com)|74.125.142.102|:443... connected.\n",
            "HTTP request sent, awaiting response... 302 Moved Temporarily\n",
            "Location: https://doc-08-88-docs.googleusercontent.com/docs/securesc/ha0ro937gcuc7l7deffksulhg5h7mbp1/4erq8jmahq18ri7ov7uvf51dvrf8tgko/1625992275000/05875276406787995919/*/14U9w56mn_LXGpiC7IDhmKlFi6rlmGpV7?e=download [following]\n",
            "Warning: wildcards not supported in HTTP.\n",
            "--2021-07-11 08:32:05--  https://doc-08-88-docs.googleusercontent.com/docs/securesc/ha0ro937gcuc7l7deffksulhg5h7mbp1/4erq8jmahq18ri7ov7uvf51dvrf8tgko/1625992275000/05875276406787995919/*/14U9w56mn_LXGpiC7IDhmKlFi6rlmGpV7?e=download\n",
            "Resolving doc-08-88-docs.googleusercontent.com (doc-08-88-docs.googleusercontent.com)... 74.125.142.132, 2607:f8b0:400e:c08::84\n",
            "Connecting to doc-08-88-docs.googleusercontent.com (doc-08-88-docs.googleusercontent.com)|74.125.142.132|:443... connected.\n",
            "HTTP request sent, awaiting response... 200 OK\n",
            "Length: 73 [application/json]\n",
            "Saving to: ‘kaggle.json’\n",
            "\n",
            "kaggle.json         100%[===================>]      73  --.-KB/s    in 0s      \n",
            "\n",
            "2021-07-11 08:32:05 (4.11 MB/s) - ‘kaggle.json’ saved [73/73]\n",
            "\n",
            "Downloading leukemia-classification.zip to /content\n",
            " 98% 849M/867M [00:11<00:00, 58.4MB/s]\n",
            "100% 867M/867M [00:11<00:00, 81.8MB/s]\n"
          ],
          "name": "stdout"
        }
      ]
    },
    {
      "cell_type": "code",
      "metadata": {
        "id": "k4b72rdUkB3G"
      },
      "source": [
        "import tensorflow as tf\n",
        "from tensorflow import keras\n",
        "import numpy as np\n",
        "import matplotlib.pyplot as plt\n",
        "from tensorflow.keras.preprocessing.image import ImageDataGenerator\n",
        "import zipfile\n",
        "from google.colab import drive"
      ],
      "execution_count": null,
      "outputs": []
    },
    {
      "cell_type": "code",
      "metadata": {
        "id": "nhI-la_ikVnZ"
      },
      "source": [
        "with zipfile.ZipFile('/content/leukemia-classification.zip') as zip_ref:\n",
        "  zip_ref.extractall()"
      ],
      "execution_count": null,
      "outputs": []
    },
    {
      "cell_type": "code",
      "metadata": {
        "id": "3Nz9P4aXlm1a"
      },
      "source": [
        "!rm leukemia-classification.zip"
      ],
      "execution_count": null,
      "outputs": []
    },
    {
      "cell_type": "code",
      "metadata": {
        "id": "-phfEjJYlr3W"
      },
      "source": [
        "import os\n",
        "import shutil"
      ],
      "execution_count": null,
      "outputs": []
    },
    {
      "cell_type": "code",
      "metadata": {
        "id": "dsCogUh_lw9k"
      },
      "source": [
        "try:\n",
        "    os.mkdir('Dataset')\n",
        "    os.mkdir('Dataset/Train')\n",
        "    os.mkdir('Dataset/Train/Yes')\n",
        "    os.mkdir('Dataset/Train/No')\n",
        "    os.mkdir('Dataset/Test')\n",
        "    os.mkdir('Dataset/Validation')\n",
        "    os.mkdir('Dataset/Validation/Yes')\n",
        "    os.mkdir('Dataset/Validation/No')\n",
        "except:\n",
        "    pass"
      ],
      "execution_count": null,
      "outputs": []
    },
    {
      "cell_type": "code",
      "metadata": {
        "id": "8nqoXuJ-l0LO"
      },
      "source": [
        "from skimage import exposure\n",
        "from PIL import Image\n",
        "from skimage.io import imread, imshow"
      ],
      "execution_count": null,
      "outputs": []
    },
    {
      "cell_type": "code",
      "metadata": {
        "id": "SBMEfm4Pl4W4"
      },
      "source": [
        "for num in range(0,3):\n",
        "    for i in os.listdir('/content/C-NMC_Leukemia/training_data/fold_' + str(num) + '/all'):\n",
        "        src = '/content/C-NMC_Leukemia/training_data/fold_' + str(num) + '/all/' + i\n",
        "        img = Image.open(src)\n",
        "        img2 = img.convert('L')\n",
        "        des = '/content/Dataset/Train/Yes/' + i\n",
        "        img2.save(des)\n",
        "    for i in os.listdir('/content/C-NMC_Leukemia/training_data/fold_' + str(num) + '/hem'):\n",
        "        src = '/content/C-NMC_Leukemia/training_data/fold_' + str(num) + '/hem/' + i\n",
        "        img = Image.open(src)\n",
        "        img2 = img.convert('L')\n",
        "        des = '/content/Dataset/Train/No/' + i\n",
        "        img2.save(des)"
      ],
      "execution_count": null,
      "outputs": []
    },
    {
      "cell_type": "code",
      "metadata": {
        "id": "yXoYjpv2mw2f"
      },
      "source": [
        "for i in os.listdir('/content/C-NMC_Leukemia/testing_data/C-NMC_test_final_phase_data'):\n",
        "        src = '/content/C-NMC_Leukemia/testing_data/C-NMC_test_final_phase_data/' + i\n",
        "        img = Image.open(src)\n",
        "        img2 = img.convert('L')\n",
        "        des = '/content/Dataset/Test/' + i\n",
        "        img2.save(des)"
      ],
      "execution_count": null,
      "outputs": []
    },
    {
      "cell_type": "code",
      "metadata": {
        "id": "2SbDM6rCnkBw"
      },
      "source": [
        "import pandas as pd"
      ],
      "execution_count": null,
      "outputs": []
    },
    {
      "cell_type": "code",
      "metadata": {
        "colab": {
          "base_uri": "https://localhost:8080/",
          "height": 206
        },
        "id": "omksdcJUnoHg",
        "outputId": "59fef83c-e223-4726-8bcc-1c6f29c65ac7"
      },
      "source": [
        "validation_df = pd.read_csv('/content/C-NMC_Leukemia/validation_data/C-NMC_test_prelim_phase_data_labels.csv')\n",
        "validation_df.head()"
      ],
      "execution_count": null,
      "outputs": [
        {
          "output_type": "execute_result",
          "data": {
            "text/html": [
              "<div>\n",
              "<style scoped>\n",
              "    .dataframe tbody tr th:only-of-type {\n",
              "        vertical-align: middle;\n",
              "    }\n",
              "\n",
              "    .dataframe tbody tr th {\n",
              "        vertical-align: top;\n",
              "    }\n",
              "\n",
              "    .dataframe thead th {\n",
              "        text-align: right;\n",
              "    }\n",
              "</style>\n",
              "<table border=\"1\" class=\"dataframe\">\n",
              "  <thead>\n",
              "    <tr style=\"text-align: right;\">\n",
              "      <th></th>\n",
              "      <th>Patient_ID</th>\n",
              "      <th>new_names</th>\n",
              "      <th>labels</th>\n",
              "    </tr>\n",
              "  </thead>\n",
              "  <tbody>\n",
              "    <tr>\n",
              "      <th>0</th>\n",
              "      <td>UID_57_29_1_all.bmp</td>\n",
              "      <td>1.bmp</td>\n",
              "      <td>1</td>\n",
              "    </tr>\n",
              "    <tr>\n",
              "      <th>1</th>\n",
              "      <td>UID_57_22_2_all.bmp</td>\n",
              "      <td>2.bmp</td>\n",
              "      <td>1</td>\n",
              "    </tr>\n",
              "    <tr>\n",
              "      <th>2</th>\n",
              "      <td>UID_57_31_3_all.bmp</td>\n",
              "      <td>3.bmp</td>\n",
              "      <td>1</td>\n",
              "    </tr>\n",
              "    <tr>\n",
              "      <th>3</th>\n",
              "      <td>UID_H49_35_1_hem.bmp</td>\n",
              "      <td>4.bmp</td>\n",
              "      <td>0</td>\n",
              "    </tr>\n",
              "    <tr>\n",
              "      <th>4</th>\n",
              "      <td>UID_58_6_13_all.bmp</td>\n",
              "      <td>5.bmp</td>\n",
              "      <td>1</td>\n",
              "    </tr>\n",
              "  </tbody>\n",
              "</table>\n",
              "</div>"
            ],
            "text/plain": [
              "             Patient_ID new_names  labels\n",
              "0   UID_57_29_1_all.bmp     1.bmp       1\n",
              "1   UID_57_22_2_all.bmp     2.bmp       1\n",
              "2   UID_57_31_3_all.bmp     3.bmp       1\n",
              "3  UID_H49_35_1_hem.bmp     4.bmp       0\n",
              "4   UID_58_6_13_all.bmp     5.bmp       1"
            ]
          },
          "metadata": {
            "tags": []
          },
          "execution_count": 11
        }
      ]
    },
    {
      "cell_type": "code",
      "metadata": {
        "id": "TzA89_Ehnq54"
      },
      "source": [
        "file_names = validation_df['new_names']\n",
        "file_targets = validation_df['labels']"
      ],
      "execution_count": null,
      "outputs": []
    },
    {
      "cell_type": "code",
      "metadata": {
        "id": "o3dBwP99nu--"
      },
      "source": [
        "for i in range(len(os.listdir('/content/C-NMC_Leukemia/validation_data/C-NMC_test_prelim_phase_data'))):\n",
        "        src = '/content/C-NMC_Leukemia/validation_data/C-NMC_test_prelim_phase_data/' + file_names[i]\n",
        "        img = Image.open(src)\n",
        "        img2 = img.convert('L') \n",
        "        t = \"No\" if file_targets[i] == 0 else \"Yes\"\n",
        "        des = '/content/Dataset/Validation/' + t + '/' + file_names[i]\n",
        "        img2.save(des)"
      ],
      "execution_count": null,
      "outputs": []
    },
    {
      "cell_type": "code",
      "metadata": {
        "id": "MoCdUEPBoZWL"
      },
      "source": [
        "!rm -rf /content/C-NMC_Leukemia"
      ],
      "execution_count": null,
      "outputs": []
    },
    {
      "cell_type": "code",
      "metadata": {
        "colab": {
          "base_uri": "https://localhost:8080/",
          "height": 467
        },
        "id": "UWfNJM_9od7I",
        "outputId": "b4c3dcfd-fd95-4010-f980-1ad69573a113"
      },
      "source": [
        "img1 = Image.open(\"/content/Dataset/Train/Yes/UID_11_10_1_all.bmp\")\n",
        "display(img1)"
      ],
      "execution_count": null,
      "outputs": [
        {
          "output_type": "display_data",
          "data": {
            "image/png": "[encoded data removed]",
            "text/plain": [
              "<PIL.BmpImagePlugin.BmpImageFile image mode=L size=450x450 at 0x7F57C8B6BE10>"
            ]
          },
          "metadata": {
            "tags": []
          }
        }
      ]
    },
    {
      "cell_type": "code",
      "metadata": {
        "id": "JvagKJM2o29G"
      },
      "source": [
        "img_width, img_height, dimensions = 300, 300 , 1"
      ],
      "execution_count": null,
      "outputs": []
    },
    {
      "cell_type": "code",
      "metadata": {
        "id": "W0L3-V8jo7ad"
      },
      "source": [
        "model = tf.keras.Sequential([tf.keras.layers.Conv2D(16,(3,3), activation = 'relu', input_shape=(img_width, img_height, dimensions)),\n",
        "                             tf.keras.layers.MaxPooling2D(2,2),\n",
        "                             \n",
        "                             tf.keras.layers.Conv2D(32,(3,3), activation = 'relu'),\n",
        "                             tf.keras.layers.MaxPooling2D(2,2),\n",
        "                             \n",
        "                             tf.keras.layers.Conv2D(64,(3,3), activation = 'relu'),\n",
        "                             tf.keras.layers.MaxPooling2D(2,2),\n",
        "                             \n",
        "                             #tf.keras.layers.Conv2D(128,(3,3), activation = 'relu'),\n",
        "                             #tf.keras.layers.MaxPooling2D(2,2),\n",
        "                             tf.keras.layers.Dropout(0.2),\n",
        "                             tf.keras.layers.Flatten(),\n",
        "                             \n",
        "                             tf.keras.layers.Dense(512,activation='relu'),\n",
        "                             tf.keras.layers.Dense(1,activation = 'sigmoid'),\n",
        "                             ])"
      ],
      "execution_count": null,
      "outputs": []
    },
    {
      "cell_type": "code",
      "metadata": {
        "colab": {
          "base_uri": "https://localhost:8080/"
        },
        "id": "5YuB-hI1p_1K",
        "outputId": "345b13a6-ba82-4c1b-d899-d932666fe3ed"
      },
      "source": [
        "model.summary()"
      ],
      "execution_count": null,
      "outputs": [
        {
          "output_type": "stream",
          "text": [
            "Model: \"sequential\"\n",
            "_________________________________________________________________\n",
            "Layer (type)                 Output Shape              Param #   \n",
            "=================================================================\n",
            "conv2d (Conv2D)              (None, 298, 298, 16)      160       \n",
            "_________________________________________________________________\n",
            "max_pooling2d (MaxPooling2D) (None, 149, 149, 16)      0         \n",
            "_________________________________________________________________\n",
            "conv2d_1 (Conv2D)            (None, 147, 147, 32)      4640      \n",
            "_________________________________________________________________\n",
            "max_pooling2d_1 (MaxPooling2 (None, 73, 73, 32)        0         \n",
            "_________________________________________________________________\n",
            "conv2d_2 (Conv2D)            (None, 71, 71, 64)        18496     \n",
            "_________________________________________________________________\n",
            "max_pooling2d_2 (MaxPooling2 (None, 35, 35, 64)        0         \n",
            "_________________________________________________________________\n",
            "dropout (Dropout)            (None, 35, 35, 64)        0         \n",
            "_________________________________________________________________\n",
            "flatten (Flatten)            (None, 78400)             0         \n",
            "_________________________________________________________________\n",
            "dense (Dense)                (None, 512)               40141312  \n",
            "_________________________________________________________________\n",
            "dense_1 (Dense)              (None, 1)                 513       \n",
            "=================================================================\n",
            "Total params: 40,165,121\n",
            "Trainable params: 40,165,121\n",
            "Non-trainable params: 0\n",
            "_________________________________________________________________\n"
          ],
          "name": "stdout"
        }
      ]
    },
    {
      "cell_type": "code",
      "metadata": {
        "id": "kYQznR9sqF3y"
      },
      "source": [
        "model.compile(loss = 'binary_crossentropy', optimizer ='adamax' , metrics = ['accuracy'])"
      ],
      "execution_count": null,
      "outputs": []
    },
    {
      "cell_type": "code",
      "metadata": {
        "id": "7DWGvxGUqPVX"
      },
      "source": [
        "train_datagen = ImageDataGenerator(rescale = 1.0/255.,\n",
        "                                   zoom_range = 0.2,\n",
        "                                   rotation_range = 40,\n",
        "                                   horizontal_flip = True,\n",
        "                                   fill_mode ='nearest',)\n",
        "validation_datagen = ImageDataGenerator(rescale = 1.0/255.)"
      ],
      "execution_count": null,
      "outputs": []
    },
    {
      "cell_type": "code",
      "metadata": {
        "id": "NIuFLrDEqXo9"
      },
      "source": [
        "train_dir = '/content/Dataset/Train'\n",
        "validation_dir = '/content/Dataset/Validation'"
      ],
      "execution_count": null,
      "outputs": []
    },
    {
      "cell_type": "code",
      "metadata": {
        "colab": {
          "base_uri": "https://localhost:8080/"
        },
        "id": "nNWMEhJdqcCt",
        "outputId": "94e74943-6c2f-4eeb-dccd-599e857221ad"
      },
      "source": [
        "train_generator = train_datagen.flow_from_directory(train_dir,\n",
        "                                                    class_mode = 'binary',\n",
        "                                                    color_mode = 'grayscale',\n",
        "                                                    target_size = (img_width, img_height),\n",
        "                                                    batch_size = 128\n",
        "                                                    )\n",
        "validation_generator = validation_datagen.flow_from_directory(validation_dir,\n",
        "                                                  class_mode = 'binary',\n",
        "                                                  color_mode=\"grayscale\",\n",
        "                                                  target_size = (img_width, img_height),\n",
        "                                                  batch_size = 128\n",
        "                                                  )"
      ],
      "execution_count": null,
      "outputs": [
        {
          "output_type": "stream",
          "text": [
            "Found 10661 images belonging to 2 classes.\n",
            "Found 1867 images belonging to 2 classes.\n"
          ],
          "name": "stdout"
        }
      ]
    },
    {
      "cell_type": "code",
      "metadata": {
        "id": "mVHYcL_3qk1q"
      },
      "source": [
        "drive.mount('/content/drive')"
      ],
      "execution_count": null,
      "outputs": []
    },
    {
      "cell_type": "code",
      "metadata": {
        "id": "SUhp2Idjqxza"
      },
      "source": [
        "%cd drive/MyDrive/Luekemia_Classification/"
      ],
      "execution_count": null,
      "outputs": []
    },
    {
      "cell_type": "code",
      "metadata": {
        "id": "GI-4kxh9rcE6"
      },
      "source": [
        "from tensorflow.keras.callbacks import EarlyStopping, ModelCheckpoint, ReduceLROnPlateau\n",
        "import h5py\n"
      ],
      "execution_count": null,
      "outputs": []
    },
    {
      "cell_type": "code",
      "metadata": {
        "id": "D22SZV5YsAHi"
      },
      "source": [
        "#erl_stop = EarlyStopping(monitor=\"val_loss\",patience=6,restore_best_weights=True,mode=\"min\")\n",
        "#model_check = ModelCheckpoint(filepath=\"/content/mySavedModel2.hdf5\",save_best_only=True,monitor=\"val_loss\",mode=\"min\")\n",
        "#lr_rate = ReduceLROnPlateau(monitor=\"val_loss\",patience=3,factor=0.1)"
      ],
      "execution_count": null,
      "outputs": []
    },
    {
      "cell_type": "code",
      "metadata": {
        "colab": {
          "base_uri": "https://localhost:8080/"
        },
        "id": "ptcvotdPtH_a",
        "outputId": "acc31194-6a7b-47c1-8fa1-2abcf9f4d4fa"
      },
      "source": [
        "history = model.fit(train_generator,\n",
        "                    epochs = 20,\n",
        "                    validation_data = validation_generator,\n",
        "                    verbose = 1)"
      ],
      "execution_count": null,
      "outputs": [
        {
          "output_type": "stream",
          "text": [
            "Epoch 1/20\n",
            "84/84 [==============================] - 69s 817ms/step - loss: 0.5393 - accuracy: 0.7615 - val_loss: 0.6783 - val_accuracy: 0.6990\n",
            "Epoch 2/20\n",
            "84/84 [==============================] - 68s 813ms/step - loss: 0.4968 - accuracy: 0.7729 - val_loss: 0.7134 - val_accuracy: 0.6856\n",
            "Epoch 3/20\n",
            "84/84 [==============================] - 68s 818ms/step - loss: 0.4975 - accuracy: 0.7719 - val_loss: 0.6933 - val_accuracy: 0.6904\n",
            "Epoch 4/20\n",
            "84/84 [==============================] - 68s 804ms/step - loss: 0.4942 - accuracy: 0.7733 - val_loss: 0.7349 - val_accuracy: 0.6840\n",
            "Epoch 5/20\n",
            "84/84 [==============================] - 68s 810ms/step - loss: 0.4933 - accuracy: 0.7730 - val_loss: 0.6822 - val_accuracy: 0.6840\n",
            "Epoch 6/20\n",
            "84/84 [==============================] - 68s 813ms/step - loss: 0.4879 - accuracy: 0.7790 - val_loss: 0.6987 - val_accuracy: 0.6856\n",
            "Epoch 7/20\n",
            "84/84 [==============================] - 67s 800ms/step - loss: 0.4898 - accuracy: 0.7762 - val_loss: 0.7222 - val_accuracy: 0.6861\n",
            "Epoch 8/20\n",
            "84/84 [==============================] - 67s 799ms/step - loss: 0.4880 - accuracy: 0.7811 - val_loss: 0.6888 - val_accuracy: 0.6813\n",
            "Epoch 9/20\n",
            "84/84 [==============================] - 67s 798ms/step - loss: 0.4822 - accuracy: 0.7874 - val_loss: 0.7040 - val_accuracy: 0.6834\n",
            "Epoch 10/20\n",
            "84/84 [==============================] - 68s 808ms/step - loss: 0.4799 - accuracy: 0.7828 - val_loss: 0.7041 - val_accuracy: 0.6743\n",
            "Epoch 11/20\n",
            "84/84 [==============================] - 68s 807ms/step - loss: 0.4804 - accuracy: 0.7802 - val_loss: 0.7076 - val_accuracy: 0.6829\n",
            "Epoch 12/20\n",
            "84/84 [==============================] - 67s 800ms/step - loss: 0.4798 - accuracy: 0.7850 - val_loss: 0.6963 - val_accuracy: 0.6834\n",
            "Epoch 13/20\n",
            "84/84 [==============================] - 68s 805ms/step - loss: 0.4812 - accuracy: 0.7885 - val_loss: 0.6667 - val_accuracy: 0.6802\n",
            "Epoch 14/20\n",
            "84/84 [==============================] - 68s 805ms/step - loss: 0.4834 - accuracy: 0.7839 - val_loss: 0.6806 - val_accuracy: 0.6802\n",
            "Epoch 15/20\n",
            "84/84 [==============================] - 68s 808ms/step - loss: 0.4733 - accuracy: 0.7912 - val_loss: 0.7160 - val_accuracy: 0.6851\n",
            "Epoch 16/20\n",
            "84/84 [==============================] - 67s 799ms/step - loss: 0.4757 - accuracy: 0.7908 - val_loss: 0.7156 - val_accuracy: 0.6829\n",
            "Epoch 17/20\n",
            "84/84 [==============================] - 67s 795ms/step - loss: 0.4751 - accuracy: 0.7852 - val_loss: 0.6816 - val_accuracy: 0.6840\n",
            "Epoch 18/20\n",
            "84/84 [==============================] - 67s 799ms/step - loss: 0.4737 - accuracy: 0.7905 - val_loss: 0.6944 - val_accuracy: 0.6813\n",
            "Epoch 19/20\n",
            "84/84 [==============================] - 67s 797ms/step - loss: 0.4692 - accuracy: 0.7895 - val_loss: 0.7737 - val_accuracy: 0.6781\n",
            "Epoch 20/20\n",
            "84/84 [==============================] - 67s 796ms/step - loss: 0.4686 - accuracy: 0.7913 - val_loss: 0.7218 - val_accuracy: 0.6818\n"
          ],
          "name": "stdout"
        }
      ]
    },
    {
      "cell_type": "code",
      "metadata": {
        "colab": {
          "background_save": true,
          "base_uri": "https://localhost:8080/",
          "height": 581
        },
        "id": "HCprdWQNKrVD",
        "outputId": "aace2446-2edd-4972-fd19-7d246913bc1c"
      },
      "source": [
        "acc = history.history['accuracy']\n",
        "loss = history.history['loss']\n",
        "val_acc = history.history['val_accuracy']\n",
        "val_loss = history.history['val_loss']\n",
        "epochs = range(len(acc))\n",
        "plt.plot(epochs , acc , 'r' , label = 'Training_accuracy')\n",
        "plt.plot(epochs, val_acc, 'b' , label = 'Validation accuracy')\n",
        "plt.legend(loc = 0)\n",
        "plt.title('model accuracy')\n",
        "plt.figure()\n",
        "plt.show()\n",
        "plt.plot(epochs, loss, 'r', label = 'Training_loss')\n",
        "plt.plot(epochs, val_loss , 'b', label = 'Validation_loss')\n",
        "plt.legend(loc = 0)\n",
        "plt.title('model loss')\n",
        "plt.figure()\n",
        "plt.show()"
      ],
      "execution_count": null,
      "outputs": [
        {
          "output_type": "display_data",
          "data": {
            "image/png": "[encoded data removed]",
            "text/plain": [
              "<Figure size 432x288 with 1 Axes>"
            ]
          },
          "metadata": {
            "tags": []
          }
        },
        {
          "output_type": "display_data",
          "data": {
            "text/plain": [
              "<Figure size 432x288 with 0 Axes>"
            ]
          },
          "metadata": {
            "tags": []
          }
        },
        {
          "output_type": "display_data",
          "data": {
            "image/png": "[encoded data removed]",
            "text/plain": [
              "<Figure size 432x288 with 1 Axes>"
            ]
          },
          "metadata": {
            "tags": []
          }
        },
        {
          "output_type": "display_data",
          "data": {
            "text/plain": [
              "<Figure size 432x288 with 0 Axes>"
            ]
          },
          "metadata": {
            "tags": []
          }
        }
      ]
    },
    {
      "cell_type": "code",
      "metadata": {
        "colab": {
          "base_uri": "https://localhost:8080/"
        },
        "id": "owjQIPk7K5HP",
        "outputId": "eab70083-b037-415c-e3c3-ca06fae256be"
      },
      "source": [
        "acc = model.evaluate(train_generator,steps=len(train_generator),verbose=1)\n",
        "print('%.2f'%(acc[1]*100))"
      ],
      "execution_count": null,
      "outputs": [
        {
          "output_type": "stream",
          "text": [
            "84/84 [==============================] - 299s 4s/step - loss: 0.4918 - accuracy: 0.7858\n",
            "78.58\n"
          ],
          "name": "stdout"
        }
      ]
    }
  ]
}