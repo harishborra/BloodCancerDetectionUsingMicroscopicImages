{
  "nbformat": 4,
  "nbformat_minor": 0,
  "metadata": {
    "colab": {
      "name": "Final_Luekemia_project",
      "provenance": [],
      "collapsed_sections": [],
      "include_colab_link": true
    },
    "kernelspec": {
      "name": "python3",
      "display_name": "Python 3"
    },
    "language_info": {
      "name": "python"
    },
    "accelerator": "GPU"
  },
  "cells": [
    {
      "cell_type": "markdown",
      "metadata": {
        "id": "view-in-github",
        "colab_type": "text"
      },
      "source": [
        "<a href=\"https://colab.research.google.com/github/harishborra/BloodCancerDetectionUsingMicroscopicImages/blob/main/Final_Luekemia_project.ipynb\" target=\"_parent\"><img src=\"https://colab.research.google.com/assets/colab-badge.svg\" alt=\"Open In Colab\"/></a>"
      ]
    },
    {
      "cell_type": "code",
      "metadata": {
        "colab": {
          "base_uri": "https://localhost:8080/"
        },
        "id": "DJYbBmEtdYgr",
        "outputId": "1bb0f17c-d5ee-4d8e-c6eb-973ef057cc33"
      },
      "source": [
        "!wget --no-check-certificate 'https://docs.google.com/uc?export=download&id=14U9w56mn_LXGpiC7IDhmKlFi6rlmGpV7' -O kaggle.json\n",
        "! mkdir ~/.kaggle\n",
        "! cp kaggle.json ~/.kaggle/\n",
        "! chmod 600 ~/.kaggle/kaggle.json\n",
        "!kaggle datasets download -d andrewmvd/leukemia-classification"
      ],
      "execution_count": null,
      "outputs": [
        {
          "output_type": "stream",
          "text": [
            "--2021-07-11 05:44:40--  https://docs.google.com/uc?export=download&id=14U9w56mn_LXGpiC7IDhmKlFi6rlmGpV7\n",
            "Resolving docs.google.com (docs.google.com)... 172.217.13.78, 2607:f8b0:4004:808::200e\n",
            "Connecting to docs.google.com (docs.google.com)|172.217.13.78|:443... connected.\n",
            "HTTP request sent, awaiting response... 302 Moved Temporarily\n",
            "Location: https://doc-08-88-docs.googleusercontent.com/docs/securesc/ha0ro937gcuc7l7deffksulhg5h7mbp1/m486t6in5r1m6572l254anqcrhdif74s/1625982225000/05875276406787995919/*/14U9w56mn_LXGpiC7IDhmKlFi6rlmGpV7?e=download [following]\n",
            "Warning: wildcards not supported in HTTP.\n",
            "--2021-07-11 05:44:40--  https://doc-08-88-docs.googleusercontent.com/docs/securesc/ha0ro937gcuc7l7deffksulhg5h7mbp1/m486t6in5r1m6572l254anqcrhdif74s/1625982225000/05875276406787995919/*/14U9w56mn_LXGpiC7IDhmKlFi6rlmGpV7?e=download\n",
            "Resolving doc-08-88-docs.googleusercontent.com (doc-08-88-docs.googleusercontent.com)... 142.250.81.193, 2607:f8b0:4004:82f::2001\n",
            "Connecting to doc-08-88-docs.googleusercontent.com (doc-08-88-docs.googleusercontent.com)|142.250.81.193|:443... connected.\n",
            "HTTP request sent, awaiting response... 200 OK\n",
            "Length: 73 [application/json]\n",
            "Saving to: ‘kaggle.json’\n",
            "\n",
            "kaggle.json         100%[===================>]      73  --.-KB/s    in 0s      \n",
            "\n",
            "2021-07-11 05:44:41 (4.67 MB/s) - ‘kaggle.json’ saved [73/73]\n",
            "\n",
            "Downloading leukemia-classification.zip to /content\n",
            " 97% 844M/867M [00:03<00:00, 248MB/s]\n",
            "100% 867M/867M [00:03<00:00, 242MB/s]\n"
          ],
          "name": "stdout"
        }
      ]
    },
    {
      "cell_type": "code",
      "metadata": {
        "id": "EfhjoNH2eyii"
      },
      "source": [
        "import tensorflow as tf\n",
        "from tensorflow import keras\n",
        "import numpy as np\n",
        "import matplotlib.pyplot as plt\n",
        "from tensorflow.keras.preprocessing.image import ImageDataGenerator\n",
        "import zipfile\n",
        "from google.colab import drive"
      ],
      "execution_count": null,
      "outputs": []
    },
    {
      "cell_type": "code",
      "metadata": {
        "id": "IwtUxnW-fjWr"
      },
      "source": [
        "with zipfile.ZipFile('/content/leukemia-classification.zip') as zip_ref:\n",
        "  zip_ref.extractall()"
      ],
      "execution_count": null,
      "outputs": []
    },
    {
      "cell_type": "code",
      "metadata": {
        "id": "gUzkcw8XulFI"
      },
      "source": [
        "!rm leukemia-classification.zip"
      ],
      "execution_count": null,
      "outputs": []
    },
    {
      "cell_type": "code",
      "metadata": {
        "id": "GS3YNTbcfnFd"
      },
      "source": [
        " import os\n",
        " import shutil"
      ],
      "execution_count": null,
      "outputs": []
    },
    {
      "cell_type": "code",
      "metadata": {
        "id": "XPtGu--Em5ZH"
      },
      "source": [
        "try:\n",
        "    os.mkdir('Dataset')\n",
        "    os.mkdir('Dataset/Train')\n",
        "    os.mkdir('Dataset/Train/Yes')\n",
        "    os.mkdir('Dataset/Train/No')\n",
        "    os.mkdir('Dataset/Test')\n",
        "    os.mkdir('Dataset/Validation')\n",
        "    os.mkdir('Dataset/Validation/Yes')\n",
        "    os.mkdir('Dataset/Validation/No')\n",
        "except:\n",
        "    pass"
      ],
      "execution_count": null,
      "outputs": []
    },
    {
      "cell_type": "code",
      "metadata": {
        "id": "j12VNQHlzYqT"
      },
      "source": [
        "import cv2\n",
        "from PIL import Image\n",
        "from skimage.io import imread, imshow"
      ],
      "execution_count": null,
      "outputs": []
    },
    {
      "cell_type": "code",
      "metadata": {
        "id": "vOv6pX0-pcpX"
      },
      "source": [
        "for num in range(0,3):\n",
        "    for i in os.listdir('/content/C-NMC_Leukemia/training_data/fold_' + str(num) + '/all'):\n",
        "        src = '/content/C-NMC_Leukemia/training_data/fold_' + str(num) + '/all/' + i\n",
        "        image= cv2.imread(src)\n",
        "        original = image.copy()\n",
        "        gray = cv2.cvtColor(image, cv2.COLOR_BGR2GRAY)\n",
        "        blur = cv2.GaussianBlur(gray, (25,25), 0)\n",
        "        thresh = cv2.threshold(blur, 0, 255, cv2.THRESH_BINARY_INV + cv2.THRESH_OTSU)[1]\n",
        "\n",
        "        # Perform morph operations, first open to remove noise, then close to combine\n",
        "        noise_kernel = cv2.getStructuringElement(cv2.MORPH_RECT, (3,3))\n",
        "        opening = cv2.morphologyEx(thresh, cv2.MORPH_OPEN, noise_kernel, iterations=2)\n",
        "        close_kernel = cv2.getStructuringElement(cv2.MORPH_RECT, (7,7))\n",
        "        close = cv2.morphologyEx(opening, cv2.MORPH_CLOSE, close_kernel, iterations=3)\n",
        "\n",
        "        # Find enclosing boundingbox and crop ROI\n",
        "        coords = cv2.findNonZero(close)\n",
        "        x,y,w,h = cv2.boundingRect(coords)\n",
        "        cv2.rectangle(image, (x, y), (x + w, y + h), (36,255,12), 2)\n",
        "        crop = original[y:y+h, x:x+w]\n",
        "        des = '/content/Dataset/Train/Yes/' + i\n",
        "        #shutil.move(src,des)\n",
        "        #im = Image.fromarray(crop)\n",
        "        #im.save(des)\n",
        "        cv2.imwrite(des, crop)"
      ],
      "execution_count": null,
      "outputs": []
    },
    {
      "cell_type": "code",
      "metadata": {
        "id": "C06zE_Q5fjfn"
      },
      "source": [
        "for i in os.listdir('/content/C-NMC_Leukemia/training_data/fold_' + str(num) + '/hem'):\n",
        "        src = '/content/C-NMC_Leukemia/training_data/fold_' + str(num) + '/hem/' + i\n",
        "        image= cv2.imread(src)\n",
        "        original = image.copy()\n",
        "        gray = cv2.cvtColor(image, cv2.COLOR_BGR2GRAY)\n",
        "        blur = cv2.GaussianBlur(gray, (25,25), 0)\n",
        "        thresh = cv2.threshold(blur, 0, 255, cv2.THRESH_BINARY_INV + cv2.THRESH_OTSU)[1]\n",
        "\n",
        "        # Perform morph operations, first open to remove noise, then close to combine\n",
        "        noise_kernel = cv2.getStructuringElement(cv2.MORPH_RECT, (3,3))\n",
        "        opening = cv2.morphologyEx(thresh, cv2.MORPH_OPEN, noise_kernel, iterations=2)\n",
        "        close_kernel = cv2.getStructuringElement(cv2.MORPH_RECT, (7,7))\n",
        "        close = cv2.morphologyEx(opening, cv2.MORPH_CLOSE, close_kernel, iterations=3)\n",
        "\n",
        "        # Find enclosing boundingbox and crop ROI\n",
        "        coords = cv2.findNonZero(close)\n",
        "        x,y,w,h = cv2.boundingRect(coords)\n",
        "        cv2.rectangle(image, (x, y), (x + w, y + h), (36,255,12), 2)\n",
        "        crop = original[y:y+h, x:x+w]\n",
        "        des = '/content/Dataset/Train/No/' + i\n",
        "        #img2.save(des)\n",
        "        #shutil.move(src,des)\n",
        "        cv2.imwrite(des, crop)"
      ],
      "execution_count": null,
      "outputs": []
    },
    {
      "cell_type": "code",
      "metadata": {
        "id": "iE-YjJVExGn8"
      },
      "source": [
        "for i in os.listdir('/content/C-NMC_Leukemia/testing_data/C-NMC_test_final_phase_data'):\n",
        "        src = '/content/C-NMC_Leukemia/testing_data/C-NMC_test_final_phase_data/' + i\n",
        "        image= cv2.imread(src)\n",
        "        origimageinal = image.copy()\n",
        "        gray = cv2.cvtColor(image, cv2.COLOR_BGR2GRAY)\n",
        "        blur = cv2.GaussianBlur(gray, (25,25), 0)\n",
        "        thresh = cv2.threshold(blur, 0, 255, cv2.THRESH_BINARY_INV + cv2.THRESH_OTSU)[1]\n",
        "\n",
        "        # Perform morph operations, first open to remove noise, then close to combine\n",
        "        noise_kernel = cv2.getStructuringElement(cv2.MORPH_RECT, (3,3))\n",
        "        opening = cv2.morphologyEx(thresh, cv2.MORPH_OPEN, noise_kernel, iterations=2)\n",
        "        close_kernel = cv2.getStructuringElement(cv2.MORPH_RECT, (7,7))\n",
        "        close = cv2.morphologyEx(opening, cv2.MORPH_CLOSE, close_kernel, iterations=3)\n",
        "\n",
        "        # Find enclosing boundingbox and crop ROI\n",
        "        coords = cv2.findNonZero(close)\n",
        "        x,y,w,h = cv2.boundingRect(coords)\n",
        "        cv2.rectangle(image, (x, y), (x + w, y + h), (36,255,12), 2)\n",
        "        crop = original[y:y+h, x:x+w]\n",
        "        des = '/content/Dataset/Test/' + i\n",
        "        cv2.imwrite(des, crop)\n",
        "\n",
        "        #shutil.move(src,des)"
      ],
      "execution_count": null,
      "outputs": []
    },
    {
      "cell_type": "code",
      "metadata": {
        "id": "8QlhgykIm9D9"
      },
      "source": [
        "import pandas as pd"
      ],
      "execution_count": null,
      "outputs": []
    },
    {
      "cell_type": "code",
      "metadata": {
        "colab": {
          "base_uri": "https://localhost:8080/",
          "height": 203
        },
        "id": "2YXbgAn3tTbm",
        "outputId": "e2d2b330-3f68-4b10-f73f-9032f624a871"
      },
      "source": [
        "validation_df = pd.read_csv('/content/C-NMC_Leukemia/validation_data/C-NMC_test_prelim_phase_data_labels.csv')\n",
        "validation_df.head()"
      ],
      "execution_count": null,
      "outputs": [
        {
          "output_type": "execute_result",
          "data": {
            "text/html": [
              "<div>\n",
              "<style scoped>\n",
              "    .dataframe tbody tr th:only-of-type {\n",
              "        vertical-align: middle;\n",
              "    }\n",
              "\n",
              "    .dataframe tbody tr th {\n",
              "        vertical-align: top;\n",
              "    }\n",
              "\n",
              "    .dataframe thead th {\n",
              "        text-align: right;\n",
              "    }\n",
              "</style>\n",
              "<table border=\"1\" class=\"dataframe\">\n",
              "  <thead>\n",
              "    <tr style=\"text-align: right;\">\n",
              "      <th></th>\n",
              "      <th>Patient_ID</th>\n",
              "      <th>new_names</th>\n",
              "      <th>labels</th>\n",
              "    </tr>\n",
              "  </thead>\n",
              "  <tbody>\n",
              "    <tr>\n",
              "      <th>0</th>\n",
              "      <td>UID_57_29_1_all.bmp</td>\n",
              "      <td>1.bmp</td>\n",
              "      <td>1</td>\n",
              "    </tr>\n",
              "    <tr>\n",
              "      <th>1</th>\n",
              "      <td>UID_57_22_2_all.bmp</td>\n",
              "      <td>2.bmp</td>\n",
              "      <td>1</td>\n",
              "    </tr>\n",
              "    <tr>\n",
              "      <th>2</th>\n",
              "      <td>UID_57_31_3_all.bmp</td>\n",
              "      <td>3.bmp</td>\n",
              "      <td>1</td>\n",
              "    </tr>\n",
              "    <tr>\n",
              "      <th>3</th>\n",
              "      <td>UID_H49_35_1_hem.bmp</td>\n",
              "      <td>4.bmp</td>\n",
              "      <td>0</td>\n",
              "    </tr>\n",
              "    <tr>\n",
              "      <th>4</th>\n",
              "      <td>UID_58_6_13_all.bmp</td>\n",
              "      <td>5.bmp</td>\n",
              "      <td>1</td>\n",
              "    </tr>\n",
              "  </tbody>\n",
              "</table>\n",
              "</div>"
            ],
            "text/plain": [
              "             Patient_ID new_names  labels\n",
              "0   UID_57_29_1_all.bmp     1.bmp       1\n",
              "1   UID_57_22_2_all.bmp     2.bmp       1\n",
              "2   UID_57_31_3_all.bmp     3.bmp       1\n",
              "3  UID_H49_35_1_hem.bmp     4.bmp       0\n",
              "4   UID_58_6_13_all.bmp     5.bmp       1"
            ]
          },
          "metadata": {
            "tags": []
          },
          "execution_count": 12
        }
      ]
    },
    {
      "cell_type": "code",
      "metadata": {
        "id": "OE9_x74Jtvrn"
      },
      "source": [
        "file_names = validation_df['new_names']\n",
        "file_targets = validation_df['labels']"
      ],
      "execution_count": null,
      "outputs": []
    },
    {
      "cell_type": "code",
      "metadata": {
        "id": "eQYTW4NJxqY8"
      },
      "source": [
        "for i in range(len(os.listdir('/content/C-NMC_Leukemia/validation_data/C-NMC_test_prelim_phase_data'))):\n",
        "        src = '/content/C-NMC_Leukemia/validation_data/C-NMC_test_prelim_phase_data/' + file_names[i]\n",
        "        image= cv2.imread(src)\n",
        "        original = image.copy()\n",
        "        gray = cv2.cvtColor(image, cv2.COLOR_BGR2GRAY)\n",
        "        blur = cv2.GaussianBlur(gray, (25,25), 0)\n",
        "        thresh = cv2.threshold(blur, 0, 255, cv2.THRESH_BINARY_INV + cv2.THRESH_OTSU)[1]\n",
        "\n",
        "        # Perform morph operations, first open to remove noise, then close to combine\n",
        "        noise_kernel = cv2.getStructuringElement(cv2.MORPH_RECT, (3,3))\n",
        "        opening = cv2.morphologyEx(thresh, cv2.MORPH_OPEN, noise_kernel, iterations=2)\n",
        "        close_kernel = cv2.getStructuringElement(cv2.MORPH_RECT, (7,7))\n",
        "        close = cv2.morphologyEx(opening, cv2.MORPH_CLOSE, close_kernel, iterations=3)\n",
        "\n",
        "        # Find enclosing boundingbox and crop ROI\n",
        "        coords = cv2.findNonZero(close)\n",
        "        x,y,w,h = cv2.boundingRect(coords)\n",
        "        cv2.rectangle(image, (x, y), (x + w, y + h), (36,255,12), 2)\n",
        "        crop = original[y:y+h, x:x+w]\n",
        "        t = \"No\" if file_targets[i] == 0 else \"Yes\"\n",
        "        des = '/content/Dataset/Validation/' + t + '/' + file_names[i]\n",
        "        cv2.imwrite(des, crop)\n",
        "        #img2.save(des)\n",
        "        #shutil.move(src,des)"
      ],
      "execution_count": null,
      "outputs": []
    },
    {
      "cell_type": "code",
      "metadata": {
        "id": "60XC0WZ9yquh"
      },
      "source": [
        "!rm -rf /content/C-NMC_Leukemia"
      ],
      "execution_count": null,
      "outputs": []
    },
    {
      "cell_type": "code",
      "metadata": {
        "colab": {
          "base_uri": "https://localhost:8080/",
          "height": 286
        },
        "id": "nyZ1j3UZzDqQ",
        "outputId": "cc0f463c-2545-4af5-d086-2becf0a1fa7d"
      },
      "source": [
        "img1 = cv2.imread(\"/content/Dataset/Train/Yes/UID_11_10_1_all.bmp\")\n",
        "plt.imshow(img1)"
      ],
      "execution_count": null,
      "outputs": [
        {
          "output_type": "execute_result",
          "data": {
            "text/plain": [
              "<matplotlib.image.AxesImage at 0x7fe7340e8310>"
            ]
          },
          "metadata": {
            "tags": []
          },
          "execution_count": 16
        },
        {
          "output_type": "display_data",
          "data": {
            "image/png": "[encoded data removed]",
            "text/plain": [
              "<Figure size 432x288 with 1 Axes>"
            ]
          },
          "metadata": {
            "tags": [],
            "needs_background": "light"
          }
        }
      ]
    },
    {
      "cell_type": "code",
      "metadata": {
        "id": "2f3Tn2AA1eQt"
      },
      "source": [
        "img_width, img_height, dimensions = 300, 300 , 3"
      ],
      "execution_count": null,
      "outputs": []
    },
    {
      "cell_type": "code",
      "metadata": {
        "id": "lUueIb9qzhMe"
      },
      "source": [
        "model = tf.keras.Sequential\n",
        "        ([tf.keras.layers.Conv2D(16,(3,3), activation = 'relu', input_shape=(img_width, img_height, dimensions)),\n",
        "          tf.keras.layers.MaxPooling2D(2,2),\n",
        "                             \n",
        "          tf.keras.layers.Conv2D(32,(3,3), activation = 'relu'),\n",
        "          tf.keras.layers.MaxPooling2D(2,2),\n",
        "                             \n",
        "                             \n",
        "          tf.keras.layers.Conv2D(64,(3,3), activation = 'relu'),\n",
        "          tf.keras.layers.MaxPooling2D(2,2),\n",
        "                             \n",
        "          tf.keras.layers.Dropout(0.3),\n",
        "          tf.keras.layers.Flatten(),\n",
        "          \n",
        "          tf.keras.layers.Dense(512,activation='relu'),\n",
        "          tf.keras.layers.Dense(1,activation = 'sigmoid'),\n",
        "         ])"
      ],
      "execution_count": null,
      "outputs": []
    },
    {
      "cell_type": "code",
      "metadata": {
        "colab": {
          "base_uri": "https://localhost:8080/"
        },
        "id": "fkLGNKDq04KT",
        "outputId": "986ccc16-36e2-4a01-9912-3b861bec1c6e"
      },
      "source": [
        "model.summary()"
      ],
      "execution_count": null,
      "outputs": [
        {
          "output_type": "stream",
          "text": [
            "Model: \"sequential_3\"\n",
            "_________________________________________________________________\n",
            "Layer (type)                 Output Shape              Param #   \n",
            "=================================================================\n",
            "conv2d_8 (Conv2D)            (None, 298, 298, 16)      448       \n",
            "_________________________________________________________________\n",
            "max_pooling2d_8 (MaxPooling2 (None, 149, 149, 16)      0         \n",
            "_________________________________________________________________\n",
            "conv2d_9 (Conv2D)            (None, 147, 147, 32)      4640      \n",
            "_________________________________________________________________\n",
            "max_pooling2d_9 (MaxPooling2 (None, 73, 73, 32)        0         \n",
            "_________________________________________________________________\n",
            "conv2d_10 (Conv2D)           (None, 71, 71, 64)        18496     \n",
            "_________________________________________________________________\n",
            "max_pooling2d_10 (MaxPooling (None, 35, 35, 64)        0         \n",
            "_________________________________________________________________\n",
            "dropout_3 (Dropout)          (None, 35, 35, 64)        0         \n",
            "_________________________________________________________________\n",
            "flatten_3 (Flatten)          (None, 78400)             0         \n",
            "_________________________________________________________________\n",
            "dense_6 (Dense)              (None, 512)               40141312  \n",
            "_________________________________________________________________\n",
            "dense_7 (Dense)              (None, 1)                 513       \n",
            "=================================================================\n",
            "Total params: 40,165,409\n",
            "Trainable params: 40,165,409\n",
            "Non-trainable params: 0\n",
            "_________________________________________________________________\n"
          ],
          "name": "stdout"
        }
      ]
    },
    {
      "cell_type": "code",
      "metadata": {
        "id": "I0W2hiC106ON"
      },
      "source": [
        "model.compile(loss = 'binary_crossentropy', optimizer ='adam' , metrics = ['accuracy'])"
      ],
      "execution_count": null,
      "outputs": []
    },
    {
      "cell_type": "code",
      "metadata": {
        "id": "mwyUtNmm09RY"
      },
      "source": [
        "train_datagen = ImageDataGenerator(rescale = 1.0/255.,\n",
        "                                   zoom_range = 0.2,\n",
        "                                   #shear_range = 0.2,\n",
        "                                   rotation_range = 40,\n",
        "                                   #width_shift_range = 0.2,\n",
        "                                   #height_shift_range = 0.2,\n",
        "                                   horizontal_flip = True,\n",
        "                                   fill_mode ='nearest',)\n",
        "validation_datagen = ImageDataGenerator(rescale = 1.0/255.)"
      ],
      "execution_count": null,
      "outputs": []
    },
    {
      "cell_type": "code",
      "metadata": {
        "id": "1ziuR8H61Qrr"
      },
      "source": [
        "train_dir = '/content/Dataset/Train'\n",
        "validation_dir = '/content/Dataset/Validation'"
      ],
      "execution_count": null,
      "outputs": []
    },
    {
      "cell_type": "code",
      "metadata": {
        "colab": {
          "base_uri": "https://localhost:8080/"
        },
        "id": "_bePg_n11Eay",
        "outputId": "5335eea9-3c73-4132-db95-26677180eed8"
      },
      "source": [
        "train_generator = train_datagen.flow_from_directory(train_dir,\n",
        "                                                    class_mode = 'binary',\n",
        "                                                    target_size = (img_width, img_height),\n",
        "                                                    batch_size = 128\n",
        "                                                    )\n",
        "validation_generator = validation_datagen.flow_from_directory(validation_dir,\n",
        "                                                  class_mode = 'binary',\n",
        "                                                  target_size = (img_width, img_height),\n",
        "                                                  batch_size = 128\n",
        "                                                  )"
      ],
      "execution_count": null,
      "outputs": [
        {
          "output_type": "stream",
          "text": [
            "Found 8368 images belonging to 2 classes.\n",
            "Found 1867 images belonging to 2 classes.\n"
          ],
          "name": "stdout"
        }
      ]
    },
    {
      "cell_type": "code",
      "metadata": {
        "id": "ReHtVveQWA1U"
      },
      "source": [
        "drive.mount('/content/drive')"
      ],
      "execution_count": null,
      "outputs": []
    },
    {
      "cell_type": "code",
      "metadata": {
        "id": "DJirx4toWYSk"
      },
      "source": [
        "%cd drive/MyDrive/Luekemia_Classification/"
      ],
      "execution_count": null,
      "outputs": []
    },
    {
      "cell_type": "code",
      "metadata": {
        "id": "Dy6xNUYbTVZX"
      },
      "source": [
        "from tensorflow.keras.callbacks import EarlyStopping, ModelCheckpoint\n",
        "early_stopping = EarlyStopping(monitor=\"val_accuracy\",patience=5,mode=\"max\")\n",
        "model_check = ModelCheckpoint(\"/content/drive/MyDrive/saved_mdl.hdf5\",save_best_only=True,monitor=\"val_accuracy\",mode=\"max\")\n",
        "callback_list=[early_stopping,model_check]"
      ],
      "execution_count": null,
      "outputs": []
    },
    {
      "cell_type": "code",
      "metadata": {
        "colab": {
          "base_uri": "https://localhost:8080/"
        },
        "id": "2cAybTOU2Txn",
        "outputId": "c6d7ae2b-8ef4-4a4d-eb09-4a0ce5ed2768"
      },
      "source": [
        "history = model.fit(train_generator,\n",
        "                              epochs = 20,\n",
        "                              validation_data = validation_generator,\n",
        "                              verbose = 1,\n",
        "                              callbacks = callback_list)"
      ],
      "execution_count": null,
      "outputs": [
        {
          "output_type": "stream",
          "text": [
            "Epoch 1/20\n",
            "66/66 [==============================] - 220s 3s/step - loss: 0.3507 - accuracy: 0.8690 - val_loss: 0.9668 - val_accuracy: 0.6529\n",
            "Epoch 2/20\n",
            "66/66 [==============================] - 226s 3s/step - loss: 0.3342 - accuracy: 0.8693 - val_loss: 0.9295 - val_accuracy: 0.6577\n",
            "Epoch 3/20\n",
            "66/66 [==============================] - 225s 3s/step - loss: 0.3391 - accuracy: 0.8734 - val_loss: 0.8411 - val_accuracy: 0.6690\n",
            "Epoch 4/20\n",
            "66/66 [==============================] - 226s 3s/step - loss: 0.3286 - accuracy: 0.8776 - val_loss: 0.7680 - val_accuracy: 0.6760\n",
            "Epoch 5/20\n",
            "66/66 [==============================] - 224s 3s/step - loss: 0.3212 - accuracy: 0.8789 - val_loss: 0.7100 - val_accuracy: 0.7006\n",
            "Epoch 6/20\n",
            "66/66 [==============================] - 226s 3s/step - loss: 0.3143 - accuracy: 0.8819 - val_loss: 1.0030 - val_accuracy: 0.6599\n",
            "Epoch 7/20\n",
            "66/66 [==============================] - 222s 3s/step - loss: 0.3100 - accuracy: 0.8843 - val_loss: 0.7290 - val_accuracy: 0.6995\n",
            "Epoch 8/20\n",
            "66/66 [==============================] - 224s 3s/step - loss: 0.3126 - accuracy: 0.8830 - val_loss: 0.7382 - val_accuracy: 0.6920\n",
            "Epoch 9/20\n",
            "66/66 [==============================] - 225s 3s/step - loss: 0.3017 - accuracy: 0.8861 - val_loss: 0.7598 - val_accuracy: 0.7043\n",
            "Epoch 10/20\n",
            "66/66 [==============================] - 226s 3s/step - loss: 0.3028 - accuracy: 0.8890 - val_loss: 0.7853 - val_accuracy: 0.7022\n",
            "Epoch 11/20\n",
            "66/66 [==============================] - 225s 3s/step - loss: 0.2907 - accuracy: 0.8897 - val_loss: 0.6985 - val_accuracy: 0.7151\n",
            "Epoch 12/20\n",
            "66/66 [==============================] - 230s 3s/step - loss: 0.3021 - accuracy: 0.8905 - val_loss: 1.1939 - val_accuracy: 0.6679\n",
            "Epoch 13/20\n",
            "66/66 [==============================] - 221s 3s/step - loss: 0.2909 - accuracy: 0.8940 - val_loss: 0.9862 - val_accuracy: 0.6792\n",
            "Epoch 14/20\n",
            "66/66 [==============================] - 223s 3s/step - loss: 0.2876 - accuracy: 0.8935 - val_loss: 1.0015 - val_accuracy: 0.6722\n",
            "Epoch 15/20\n",
            "66/66 [==============================] - 223s 3s/step - loss: 0.2733 - accuracy: 0.9007 - val_loss: 0.8483 - val_accuracy: 0.6942\n",
            "Epoch 16/20\n",
            "66/66 [==============================] - 223s 3s/step - loss: 0.2706 - accuracy: 0.9009 - val_loss: 0.7535 - val_accuracy: 0.7001\n"
          ],
          "name": "stdout"
        }
      ]
    },
    {
      "cell_type": "code",
      "metadata": {
        "colab": {
          "base_uri": "https://localhost:8080/",
          "height": 578
        },
        "id": "ya-h34n82fac",
        "outputId": "71cae558-1f46-45a1-8f3d-669e5f5a8b11"
      },
      "source": [
        "acc = history.history['accuracy']\n",
        "loss = history.history['loss']\n",
        "val_acc = history.history['val_accuracy']\n",
        "val_loss = history.history['val_loss']\n",
        "epochs = range(len(acc))\n",
        "plt.plot(epochs , acc , 'r' , label = 'Training_accuracy')\n",
        "plt.plot(epochs, val_acc, 'b' , label = 'Validation accuracy')\n",
        "plt.legend(loc = 0)\n",
        "plt.title('model accuracy')\n",
        "plt.figure()\n",
        "plt.show()\n",
        "plt.plot(epochs, loss, 'r', label = 'Training_loss')\n",
        "plt.plot(epochs, val_loss , 'b', label = 'Validation_loss')\n",
        "plt.legend(loc = 0)\n",
        "plt.title('model loss')\n",
        "plt.figure()\n",
        "plt.show()"
      ],
      "execution_count": null,
      "outputs": [
        {
          "output_type": "display_data",
          "data": {
            "image/png": "[encoded data removed]",
            "text/plain": [
              "<Figure size 432x288 with 1 Axes>"
            ]
          },
          "metadata": {
            "tags": [],
            "needs_background": "light"
          }
        },
        {
          "output_type": "display_data",
          "data": {
            "text/plain": [
              "<Figure size 432x288 with 0 Axes>"
            ]
          },
          "metadata": {
            "tags": []
          }
        },
        {
          "output_type": "display_data",
          "data": {
            "image/png": "[encoded data removed]",
            "text/plain": [
              "<Figure size 432x288 with 1 Axes>"
            ]
          },
          "metadata": {
            "tags": [],
            "needs_background": "light"
          }
        },
        {
          "output_type": "display_data",
          "data": {
            "text/plain": [
              "<Figure size 432x288 with 0 Axes>"
            ]
          },
          "metadata": {
            "tags": []
          }
        }
      ]
    },
    {
      "cell_type": "code",
      "metadata": {
        "id": "VQ7Z6Gfw86xQ",
        "colab": {
          "base_uri": "https://localhost:8080/"
        },
        "outputId": "71b84bcc-3020-4acd-eb4b-5467d46bcc8f"
      },
      "source": [
        "acc = model.evaluate(train_generator,steps=len(train_generator),verbose=1)\n",
        "print('%.2f'%(acc[1]*100))"
      ],
      "execution_count": null,
      "outputs": [
        {
          "output_type": "stream",
          "text": [
            "66/66 [==============================] - 183s 3s/step - loss: 0.2744 - accuracy: 0.9054\n",
            "90.54\n"
          ],
          "name": "stdout"
        }
      ]
    }
  ]
}